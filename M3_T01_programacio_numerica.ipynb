{
  "nbformat": 4,
  "nbformat_minor": 0,
  "metadata": {
    "colab": {
      "provenance": []
    },
    "kernelspec": {
      "name": "python3",
      "display_name": "Python 3"
    },
    "language_info": {
      "name": "python"
    }
  },
  "cells": [
    {
      "cell_type": "markdown",
      "source": [
        "EX01. Carregar “data” i \"target\" del conjunt de dades, i visualitza els 10 primers registres de cadascun."
      ],
      "metadata": {
        "id": "6ca2qQUApMZJ"
      }
    },
    {
      "cell_type": "code",
      "execution_count": 1,
      "metadata": {
        "colab": {
          "base_uri": "https://localhost:8080/"
        },
        "id": "MxmFmAlLpA8m",
        "outputId": "47921ab7-e364-482d-b01f-59c117416c4a"
      },
      "outputs": [
        {
          "output_type": "stream",
          "name": "stdout",
          "text": [
            "\n",
            "DATA\n",
            "----\n",
            "[[5.1 3.5 1.4 0.2]\n",
            " [4.9 3.  1.4 0.2]\n",
            " [4.7 3.2 1.3 0.2]\n",
            " [4.6 3.1 1.5 0.2]\n",
            " [5.  3.6 1.4 0.2]\n",
            " [5.4 3.9 1.7 0.4]\n",
            " [4.6 3.4 1.4 0.3]\n",
            " [5.  3.4 1.5 0.2]\n",
            " [4.4 2.9 1.4 0.2]\n",
            " [4.9 3.1 1.5 0.1]]\n",
            "\n",
            "TARGET\n",
            "------\n",
            "[0 0 0 0 0 0 0 0 0 0]\n",
            "\n"
          ]
        }
      ],
      "source": [
        "from sklearn.datasets import load_iris\n",
        "\n",
        "iris = load_iris()\n",
        "data = iris.data\n",
        "target = iris.target\n",
        "\n",
        "print('\\nDATA')\n",
        "print('----')\n",
        "print(data[:10])\n",
        "print('\\nTARGET')\n",
        "print('------')\n",
        "print(str(target[:10])+'\\n')\n"
      ]
    },
    {
      "cell_type": "markdown",
      "source": [
        "EX02. Concatena “data” i “target” en un nou array. Mostra els 5 primers registres."
      ],
      "metadata": {
        "id": "O-Q_SZ65pvqx"
      }
    },
    {
      "cell_type": "code",
      "source": [
        "import numpy as np\n",
        "from sklearn.datasets import load_iris\n",
        "\n",
        "iris = load_iris()\n",
        "data = iris.data\n",
        "target = iris.target.reshape(150, 1)\n",
        "data_target = np.concatenate((data, target), axis=1)\n",
        "\n",
        "print('\\ndata_target')\n",
        "print('-----------')\n",
        "print('')\n",
        "print(data_target[:5])\n",
        "print('')"
      ],
      "metadata": {
        "colab": {
          "base_uri": "https://localhost:8080/"
        },
        "id": "dNnft8kOpyHL",
        "outputId": "45114f96-558f-4f46-931a-ad1894d57292"
      },
      "execution_count": 2,
      "outputs": [
        {
          "output_type": "stream",
          "name": "stdout",
          "text": [
            "\n",
            "data_target\n",
            "-----------\n",
            "\n",
            "[[5.1 3.5 1.4 0.2 0. ]\n",
            " [4.9 3.  1.4 0.2 0. ]\n",
            " [4.7 3.2 1.3 0.2 0. ]\n",
            " [4.6 3.1 1.5 0.2 0. ]\n",
            " [5.  3.6 1.4 0.2 0. ]]\n",
            "\n"
          ]
        }
      ]
    },
    {
      "cell_type": "markdown",
      "source": [
        "EX03. Calcula la mitjana i desviació estàndard de la longitud del sèpal (\"sepal length (cm)\") i la longitud del pètal (\"petal length (cm)\"). Mostra els resultats amb dos decimals."
      ],
      "metadata": {
        "id": "SpmfzhcApzlR"
      }
    },
    {
      "cell_type": "code",
      "source": [
        "import numpy as np\n",
        "\n",
        "from sklearn.datasets import load_iris\n",
        "iris = load_iris()\n",
        "\n",
        "long_sepals = iris.data[:,0]\n",
        "mitja_long_sepals = np.around(np.mean(long_sepals), 2)\n",
        "desv_long_sepals = np.around(np.std(long_sepals), 2)\n",
        "\n",
        "print(\"\\nMitjana longitud sèpals: \"+str(mitja_long_sepals))\n",
        "print(\"Desviació estàndard: \"+str(desv_long_sepals)+'\\n')\n",
        "\n",
        "long_petals = iris.data[:,2]\n",
        "mitja_long_petals = np.around(np.mean(long_petals), 2)\n",
        "desv_long_petals = np.around(np.std(long_petals), 2)\n",
        "\n",
        "print(\"Mitjana longitud pètals: \"+str(mitja_long_petals))\n",
        "print(\"Desviació estàndard: \"+str(desv_long_petals)+'\\n')"
      ],
      "metadata": {
        "colab": {
          "base_uri": "https://localhost:8080/"
        },
        "id": "u0XdadZVp0rv",
        "outputId": "c79678ce-a370-49b4-cfac-c89ea0998108"
      },
      "execution_count": 4,
      "outputs": [
        {
          "output_type": "stream",
          "name": "stdout",
          "text": [
            "\n",
            "Mitjana longitud sèpals: 5.84\n",
            "Desviació estàndard: 0.83\n",
            "\n",
            "Mitjana longitud pètals: 3.76\n",
            "Desviació estàndard: 1.76\n",
            "\n"
          ]
        }
      ]
    },
    {
      "cell_type": "markdown",
      "source": [
        "EX04. Selecciona una mostra aleatòria de 20 registres del conjunt que has obtingut en l'exercici anterior."
      ],
      "metadata": {
        "id": "b8ocKXklp1Zr"
      }
    },
    {
      "cell_type": "code",
      "source": [
        "import numpy as np\n",
        "from numpy import random\n",
        "from sklearn.datasets import load_iris\n",
        "\n",
        "iris = load_iris()\n",
        "long_sepals = iris.data[:,0]\n",
        "long_petals = iris.data[:,2]\n",
        "\n",
        "mostra_long_sepals = random.choice(long_sepals, size=(20))\n",
        "mostra_long_petals = random.choice(long_petals, size=(20))\n",
        "\n",
        "print(\"\\nMostra longitud sèpals (20)\")\n",
        "print('---------------------------')\n",
        "print(str(mostra_long_sepals))\n",
        "print(\"\\nMostra longitud pètals (20)\")\n",
        "print('---------------------------')\n",
        "print(str(mostra_long_petals)+'\\n')"
      ],
      "metadata": {
        "colab": {
          "base_uri": "https://localhost:8080/"
        },
        "id": "4M_-lX8wp2Qp",
        "outputId": "86fba2be-e8d3-444f-e956-48510493fca0"
      },
      "execution_count": 6,
      "outputs": [
        {
          "output_type": "stream",
          "name": "stdout",
          "text": [
            "\n",
            "Mostra longitud sèpals (20)\n",
            "---------------------------\n",
            "[6.  4.7 5.7 6.3 5.7 5.8 5.2 5.4 6.1 4.4 6.4 4.9 5.8 5.8 6.1 5.6 7.6 5.5\n",
            " 6.7 4.4]\n",
            "\n",
            "Mostra longitud pètals (20)\n",
            "---------------------------\n",
            "[4.7 1.6 5.6 5.1 4.5 4.2 4.8 4.5 4.5 6.4 5.  4.9 4.3 5.  1.5 4.7 5.1 4.7\n",
            " 4.5 1.2]\n",
            "\n"
          ]
        }
      ]
    },
    {
      "cell_type": "markdown",
      "source": [
        "EX05. Crea una matriu que mostri:\n",
        "\n",
        "• La mitjana de cada característica per espècie.\n",
        "\n",
        "• La desviació estàndard de cada característica per espècie."
      ],
      "metadata": {
        "id": "GZFg5miIp243"
      }
    },
    {
      "cell_type": "code",
      "source": [
        "import numpy as np\n",
        "from sklearn.datasets import load_iris\n",
        "\n",
        "iris = load_iris()\n",
        "data = iris.data\n",
        "x = 0\n",
        "y = 0\n",
        "\n",
        "mitges = np.zeros((3, 4))\n",
        "\n",
        "while x < 3:\n",
        "    while y < 4:\n",
        "        mitges[x, y] = round(np.mean(data[(x*50):(x*50+50), y]), 2)\n",
        "        y += 1\n",
        "    x += 1\n",
        "    y = 0\n",
        "\n",
        "print(\"\\nMitjana (per característica i espècie)\\n\")\n",
        "print(mitges, end = '\\n\\n')\n",
        "\n",
        "x = 0\n",
        "y = 0\n",
        "\n",
        "desv = np.zeros((3, 4))\n",
        "\n",
        "while x < 3:\n",
        "    while y < 4:\n",
        "        desv[x, y] = np.round(np.std(data[(x*50):(x*50+50), y]), 2)\n",
        "        y += 1\n",
        "    x += 1\n",
        "    y = 0\n",
        "\n",
        "\n",
        "print(\"Desviacions típiques (idem)\\n\")\n",
        "print(str(desv)+'\\n')"
      ],
      "metadata": {
        "colab": {
          "base_uri": "https://localhost:8080/"
        },
        "id": "jVImH3iqp3ou",
        "outputId": "ad895ee2-7b0c-49c2-c9e9-759cf83fade9"
      },
      "execution_count": 8,
      "outputs": [
        {
          "output_type": "stream",
          "name": "stdout",
          "text": [
            "\n",
            "Mitjana (per característica i espècie)\n",
            "\n",
            "[[5.01 3.43 1.46 0.25]\n",
            " [5.94 2.77 4.26 1.33]\n",
            " [6.59 2.97 5.55 2.03]]\n",
            "\n",
            "Desviacions típiques (idem)\n",
            "\n",
            "[[0.35 0.38 0.17 0.1 ]\n",
            " [0.51 0.31 0.47 0.2 ]\n",
            " [0.63 0.32 0.55 0.27]]\n",
            "\n"
          ]
        }
      ]
    },
    {
      "cell_type": "markdown",
      "source": [
        "EX06.\n",
        "\n",
        "• Calcula la quantitat de mostres per espècie.\n",
        "• Troba l'espècie amb el valor màxim mitjana de la variable \"sepal length (cm)\"\n",
        "\n"
      ],
      "metadata": {
        "id": "m2_mcgzbqAHr"
      }
    },
    {
      "cell_type": "code",
      "source": [
        "import numpy as np\n",
        "from sklearn.datasets import load_iris\n",
        "\n",
        "iris = load_iris()\n",
        "data = iris.data\n",
        "especies = iris.target\n",
        "noms = iris.target_names\n",
        "\n",
        "tipus, mostra = np.unique(especies, return_counts = True)\n",
        "\n",
        "x = 0\n",
        "\n",
        "print(\"\\nTamany de les mostres\")\n",
        "print(\"---------------------\")\n",
        "while x < 3:\n",
        "    print(noms[x].capitalize()+': '+str(mostra[x]))\n",
        "    x += 1\n",
        "print('')\n",
        "\n",
        "#Troba l'espècie amb el valor màxim mitjana de la variable \"sèpal length (cm)\"\n",
        "\n",
        "x = 0\n",
        "v_max = 0\n",
        "x_max = 0\n",
        "mitges_sepals = np.empty(3)\n",
        "\n",
        "while x < 3:\n",
        "    mitges_sepals[x] = np.round(np.mean(data[:(50+50*x), 0]), 2)\n",
        "    if mitges_sepals[x] > v_max:\n",
        "        v_max = mitges_sepals[x]\n",
        "        x_max = x\n",
        "    x += 1\n",
        "\n",
        "print('Espècie mitjana longitud sèpals màxima')\n",
        "print('--------------------------------------')\n",
        "print(str(noms[x_max].capitalize())+': '+str(v_max)+'\\n')\n"
      ],
      "metadata": {
        "colab": {
          "base_uri": "https://localhost:8080/"
        },
        "id": "AzCckypRqAfI",
        "outputId": "96aa50e2-10db-4cb5-e034-220f03b9ee4e"
      },
      "execution_count": 9,
      "outputs": [
        {
          "output_type": "stream",
          "name": "stdout",
          "text": [
            "\n",
            "Tamany de les mostres\n",
            "---------------------\n",
            "Setosa: 50\n",
            "Versicolor: 50\n",
            "Virginica: 50\n",
            "\n",
            "Espècie mitjana longitud sèpals màxima\n",
            "--------------------------------------\n",
            "Virginica: 5.84\n",
            "\n"
          ]
        }
      ]
    },
    {
      "cell_type": "markdown",
      "source": [
        "EX07.\n",
        "\n",
        "• Calcula la matriu de correlació entre les variables.\n",
        "\n",
        "• Filtra els valors majors a la mitjana de la longitud dels pètals i mostra-ho.\n",
        "\n",
        "• Troba la mostra amb els pètals més grans."
      ],
      "metadata": {
        "id": "-lVlENWoqBIX"
      }
    },
    {
      "cell_type": "code",
      "source": [
        "import numpy as np\n",
        "from sklearn.datasets import load_iris\n",
        "\n",
        "iris = load_iris()\n",
        "data = iris.data\n",
        "\n",
        "# 7.1. Calcula la matriu de correlació entre les variables.\n",
        "\n",
        "data_transpuesta = np.transpose(data)\n",
        "print('\\n7.1 Matriu de correlacions entre les 4 caracter├¡stiques:\\n')\n",
        "print(np.corrcoef(data_transpuesta))\n",
        "\n",
        "# 7.2. Filtra els valors majors a la mitjana de la longitud dels p├¿tals i mostra-ho.\n",
        "\n",
        "mitja = np.round(np.mean(data[:,2]), 3)\n",
        "\n",
        "# Valors majors a la mitjana\n",
        "\n",
        "majors_mitja = np.array([])\n",
        "\n",
        "for x in data:\n",
        "    if (x[2] > mitja):\n",
        "        majors_mitja = np.append(majors_mitja, x[2])\n",
        "\n",
        "# Impressió valors\n",
        "\n",
        "print('\\n7.2 Pètals més llargs que la mitjana')\n",
        "print('\\nMitjana: '+str(mitja)+' cm.')\n",
        "print('\\nValors més grans:\\n\\n'+str(majors_mitja)+'\\n')\n",
        "\n",
        "# 7.3. Troba la mostra amb els pètals més grans.\n",
        "\n",
        "major_petal = np.amax(majors_mitja)\n",
        "print('7.3 Pètal més llarg de tots: '+str(major_petal)+' cm.\\n')"
      ],
      "metadata": {
        "colab": {
          "base_uri": "https://localhost:8080/"
        },
        "id": "2Pf5zS_-qCPY",
        "outputId": "b4ca0dcc-a6b0-4c4c-ee6f-dd5cbeb80278"
      },
      "execution_count": 10,
      "outputs": [
        {
          "output_type": "stream",
          "name": "stdout",
          "text": [
            "\n",
            "7.1 Matriu de correlacions entre les 4 caracter├¡stiques:\n",
            "\n",
            "[[ 1.         -0.11756978  0.87175378  0.81794113]\n",
            " [-0.11756978  1.         -0.4284401  -0.36612593]\n",
            " [ 0.87175378 -0.4284401   1.          0.96286543]\n",
            " [ 0.81794113 -0.36612593  0.96286543  1.        ]]\n",
            "\n",
            "7.2 Pètals més llargs que la mitjana\n",
            "\n",
            "Mitjana: 3.758 cm.\n",
            "\n",
            "Valors més grans:\n",
            "\n",
            "[4.7 4.5 4.9 4.  4.6 4.5 4.7 4.6 3.9 4.2 4.  4.7 4.4 4.5 4.1 4.5 3.9 4.8\n",
            " 4.  4.9 4.7 4.3 4.4 4.8 5.  4.5 3.8 3.9 5.1 4.5 4.5 4.7 4.4 4.1 4.  4.4\n",
            " 4.6 4.  4.2 4.2 4.2 4.3 4.1 6.  5.1 5.9 5.6 5.8 6.6 4.5 6.3 5.8 6.1 5.1\n",
            " 5.3 5.5 5.  5.1 5.3 5.5 6.7 6.9 5.  5.7 4.9 6.7 4.9 5.7 6.  4.8 4.9 5.6\n",
            " 5.8 6.1 6.4 5.6 5.1 5.6 6.1 5.6 5.5 4.8 5.4 5.6 5.1 5.1 5.9 5.7 5.2 5.\n",
            " 5.2 5.4 5.1]\n",
            "\n",
            "7.3 Pètal més llarg de tots: 6.9 cm.\n",
            "\n"
          ]
        }
      ]
    },
    {
      "cell_type": "markdown",
      "source": [
        "EX08. Troba l'espècie amb la diferència més gran entre la longitud mitjana de sèpals i pètals."
      ],
      "metadata": {
        "id": "E2BxllK-qCyv"
      }
    },
    {
      "cell_type": "code",
      "source": [
        "import numpy as np\n",
        "from sklearn.datasets import load_iris\n",
        "\n",
        "iris = load_iris()\n",
        "data = iris.data\n",
        "\n",
        "# 8. Espècie amb la diferència més gran entre la longitud mitjana de sèpals i pètals.\n",
        "\n",
        "mitjana_sepals = np.array([])\n",
        "mitjana_petals = np.array([])\n",
        "x = 0\n",
        "\n",
        "# Un array para sépalos (con los tres tipos de flores) y otro para pétalos\n",
        "\n",
        "while (x < 3):\n",
        "    mitjana_sepals = np.append(mitjana_sepals, np.mean(data[50*x:(50+50*x),0]))\n",
        "    mitjana_petals = np.append(mitjana_petals, np.mean(data[50*x:(50+50*x),2]))\n",
        "    x += 1\n",
        "\n",
        "# Cálculo de las diferencias\n",
        "\n",
        "y = 0\n",
        "val_max = 0\n",
        "diferencia = mitjana_sepals - mitjana_petals\n",
        "\n",
        "while (y<3):\n",
        "    if diferencia[y] > val_max:\n",
        "        val_max = diferencia[y]\n",
        "        especie = iris.target_names[y]\n",
        "    y += 1\n",
        "\n",
        "print('\\n8. Diferència màxima entre longitud de sèpals i pètals\\n')\n",
        "print(especie.capitalize()+': '+str(val_max)+' cm.\\n')"
      ],
      "metadata": {
        "colab": {
          "base_uri": "https://localhost:8080/"
        },
        "id": "Dv3LwWW5qDKJ",
        "outputId": "5acf8d1e-2842-420d-a17f-c6fae816540c"
      },
      "execution_count": 11,
      "outputs": [
        {
          "output_type": "stream",
          "name": "stdout",
          "text": [
            "\n",
            "8. Diferència màxima entre longitud de sèpals i pètals\n",
            "\n",
            "Setosa: 3.544 cm.\n",
            "\n"
          ]
        }
      ]
    }
  ]
}